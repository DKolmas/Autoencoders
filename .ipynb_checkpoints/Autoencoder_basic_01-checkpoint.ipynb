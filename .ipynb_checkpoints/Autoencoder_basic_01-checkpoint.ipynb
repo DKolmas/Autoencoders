{
 "cells": [
  {
   "cell_type": "markdown",
   "metadata": {},
   "source": [
    "This post is my first note on AUtoencoders. I will show here implementation of simple undercoplete autoencoder in Tensorflow and show results using [the iris dataset](http://scikit-learn.org/stable/auto_examples/datasets/plot_iris_dataset.html)\n",
    "\n",
    "I will present also tensorboard visualization of implemented autoencoder."
   ]
  },
  {
   "cell_type": "markdown",
   "metadata": {},
   "source": [
    "Type of Autoencoders [overview link](http://machinelearninguru.com/deep_learning/tensorflow/neural_networks/autoencoder/autoencoder.html):\n",
    " * Undercomplete autoencoders\n",
    " * Regularized:\n",
    "     - Sparse autoencoders [link](https://web.stanford.edu/class/cs294a/sparseAutoencoder.pdf)\n",
    "     - Denoising Autoencoders (DAE)\n",
    "     - Contractive Autoencoders (CAE)\n",
    " * Variational Autoencoders "
   ]
  },
  {
   "cell_type": "markdown",
   "metadata": {},
   "source": [
    "Reference to Tensorflow [all symbols](https://www.tensorflow.org/api_docs/python/)"
   ]
  },
  {
   "cell_type": "code",
   "execution_count": 28,
   "metadata": {},
   "outputs": [],
   "source": [
    "import tensorflow as tf\n",
    "import matplotlib\n",
    "import matplotlib.pyplot as plt\n",
    "import numpy as np\n",
    "from sklearn import datasets\n",
    "from datetime import datetime   # As the code can be run many time, each time \n",
    "                                # a new log file for TensorBoard is created in a separate\n",
    "                                # directory named with current date and time\n",
    "from os.path import join        # use join function when creating paths\n",
    "%matplotlib inline"
   ]
  },
  {
   "cell_type": "code",
   "execution_count": 3,
   "metadata": {},
   "outputs": [
    {
     "name": "stdout",
     "output_type": "stream",
     "text": [
      "Tensorflow version:  1.8.0\n"
     ]
    }
   ],
   "source": [
    "print(\"Tensorflow version: \", tf.__version__)"
   ]
  },
  {
   "cell_type": "code",
   "execution_count": 4,
   "metadata": {},
   "outputs": [
    {
     "name": "stdout",
     "output_type": "stream",
     "text": [
      "iris dataset content:  ['data', 'target', 'target_names', 'DESCR', 'feature_names']\n",
      "A shape of data content of iris dataset: (150, 4)\n"
     ]
    }
   ],
   "source": [
    "iris = datasets.load_iris()\n",
    "print(\"iris dataset content: \",list(iris.keys()))\n",
    "print(\"A shape of data content of iris dataset:\", iris[\"data\"].shape)"
   ]
  },
  {
   "cell_type": "markdown",
   "metadata": {},
   "source": [
    "* Total number of samples is 150\n",
    "* The iris data consiste of 4 inputs (features): Sepal Length, Sepal Width, Petal Length and Petal Width\n",
    "* More informatin of iris data set in [here](http://scikit-learn.org/stable/auto_examples/datasets/plot_iris_dataset.html)\n",
    "* For Autoencoders only these inputs featres are required\n"
   ]
  },
  {
   "cell_type": "code",
   "execution_count": 5,
   "metadata": {},
   "outputs": [
    {
     "name": "stdout",
     "output_type": "stream",
     "text": [
      "Example of input sample:  [4.6 3.1 1.5 0.2]\n"
     ]
    }
   ],
   "source": [
    "print(\"Example of input sample: \",iris['data'][3,:])"
   ]
  },
  {
   "cell_type": "code",
   "execution_count": 24,
   "metadata": {},
   "outputs": [
    {
     "data": {
      "text/plain": [
       "numpy.ndarray"
      ]
     },
     "execution_count": 24,
     "metadata": {},
     "output_type": "execute_result"
    }
   ],
   "source": [
    "X_train = iris['data']\n",
    "type(X_train)"
   ]
  },
  {
   "cell_type": "markdown",
   "metadata": {},
   "source": [
    "Now, let's build the tensorflow code for simple autoencoder. As a help you can refer to that figure which was taken from [CS294A Lectuter Notes of Andrew Ng](https://web.stanford.edu/class/cs294a/sparseAutoencoder.pdf)"
   ]
  },
  {
   "cell_type": "markdown",
   "metadata": {},
   "source": [
    "<img src=\"Autoencoder_basic_01.png\">"
   ]
  },
  {
   "cell_type": "markdown",
   "metadata": {},
   "source": [
    "To build the network of the architecture type shown above we can:\n",
    "* use separate weigths and biases definition as it is [here](https://www.tensorflow.org/versions/r1.0/get_started/mnist/mechanics) end perform operation like: W*X+b\n",
    "* use dense layer (fully connected layer) definition as it is [here](https://www.tensorflow.org/api_docs/python/tf/layers/dense)"
   ]
  },
  {
   "cell_type": "code",
   "execution_count": 14,
   "metadata": {},
   "outputs": [],
   "source": [
    "n_input = 4\n",
    "n_hidden = 2\n",
    "n_output = n_input"
   ]
  },
  {
   "cell_type": "code",
   "execution_count": 20,
   "metadata": {},
   "outputs": [],
   "source": [
    "tf.reset_default_graph()  # To avoid many duplicated nodes in the default grpah\n",
    "sess = tf.Session()       # The graph is created when new session starts"
   ]
  },
  {
   "cell_type": "code",
   "execution_count": 21,
   "metadata": {},
   "outputs": [],
   "source": [
    "X = tf.placeholder(tf.float32, shape=[None, n_input], name='Input')\n",
    "L_hidden = tf.layers.dense(X, n_hidden, name='LayerHidden')\n",
    "Output = tf.layers.dense(L_hidden, n_output, name='Output')"
   ]
  },
  {
   "cell_type": "markdown",
   "metadata": {},
   "source": [
    "Znajdz strone www na ktorej byla mowa o prostym aoutoencoderze, ktory morze pelnic role PCA\n",
    "\n",
    "Znlazełe. [Tutaj](https://github.com/ageron/handson-ml/blob/master/15_autoencoders.ipynb)"
   ]
  },
  {
   "cell_type": "code",
   "execution_count": 22,
   "metadata": {},
   "outputs": [],
   "source": [
    "learning_rate = 0.01\n",
    "\n",
    "AE_loss = tf.reduce_mean(tf.square(Output - X))\n",
    "optimizer = tf.train.AdamOptimizer(learning_rate)\n",
    "training_op = optimizer.minimize(AE_loss)\n",
    "\n",
    "init = tf.global_variables_initializer()"
   ]
  },
  {
   "cell_type": "code",
   "execution_count": 25,
   "metadata": {},
   "outputs": [],
   "source": [
    "n_iterations = 1000\n",
    "codings = L_hidden\n",
    "\n",
    "with tf.Session() as sess:\n",
    "    init.run()\n",
    "    for iteration in range(n_iterations):\n",
    "        training_op.run(feed_dict={X: X_train})\n",
    "    codings_val = codings.eval(feed_dict={X: X_train})"
   ]
  },
  {
   "cell_type": "code",
   "execution_count": 33,
   "metadata": {},
   "outputs": [
    {
     "data": {
      "image/png": "[encoded data removed]",
      "text/plain": [
       "<matplotlib.figure.Figure at 0x7fc77c9c87b8>"
      ]
     },
     "metadata": {},
     "output_type": "display_data"
    }
   ],
   "source": [
    "fig = plt.figure(figsize=(4,3))\n",
    "plt.plot(codings_val[:,0], codings_val[:, 1], \"b.\")\n",
    "plt.xlabel(\"$z_1$\", fontsize=18)\n",
    "plt.ylabel(\"$z_2$\", fontsize=18, rotation=0)\n",
    "#save_fig(\"linear_autoencoder_pca_plot\")\n",
    "plt.title(\"Two eigen vetcotrs via Linear Autoencoder\")\n",
    "plt.show()\n"
   ]
  }
 ],
 "metadata": {
  "kernelspec": {
   "display_name": "Python 3",
   "language": "python",
   "name": "python3"
  },
  "language_info": {
   "codemirror_mode": {
    "name": "ipython",
    "version": 3
   },
   "file_extension": ".py",
   "mimetype": "text/x-python",
   "name": "python",
   "nbconvert_exporter": "python",
   "pygments_lexer": "ipython3",
   "version": "3.6.2"
  }
 },
 "nbformat": 4,
 "nbformat_minor": 2
}
