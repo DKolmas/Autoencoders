{
 "cells": [
  {
   "cell_type": "markdown",
   "metadata": {},
   "source": [
    "This post is my first note on Autoencoders. I will show here implementation of simple undercoplete autoencoder in Tensorflow and show results using [the iris dataset](http://scikit-learn.org/stable/auto_examples/datasets/plot_iris_dataset.html)\n",
    "\n",
    "The purpose of that autoencoder is to act as PCA (Principal Component Analysis, refer to [Sebastian Raschka post]() for great discussion on PCA topic and more).\n",
    "\n",
    "In the code below I show how simply it can by to experiment with basic Autoencoder as we have easy access to dataset through Sklearn."
   ]
  },
  {
   "cell_type": "markdown",
   "metadata": {},
   "source": [
    "Shortly ther are types of Autoencoders [overview link](http://machinelearninguru.com/deep_learning/tensorflow/neural_networks/autoencoder/autoencoder.html):\n",
    " * Undercomplete autoencoders\n",
    " * Regularized:\n",
    "     - Sparse autoencoders [link](https://web.stanford.edu/class/cs294a/sparseAutoencoder.pdf)\n",
    "     - Denoising Autoencoders (DAE)\n",
    "     - Contractive Autoencoders (CAE)\n",
    " * Variational Autoencoders "
   ]
  },
  {
   "cell_type": "markdown",
   "metadata": {},
   "source": [
    "Reference to Tensorflow [all symbols](https://www.tensorflow.org/api_docs/python/) - someitmes it helps to have a quick look into such a place once you got lost while working with TensorFlow low level API. Recommended :)"
   ]
  },
  {
   "cell_type": "markdown",
   "metadata": {},
   "source": [
    "Non obvoius references:\n",
    "* [Hands-On Machine Learning with Scikit-Learn and TensorFlow](http://shop.oreilly.com/product/0636920052289.do)\n",
    "* [CS294A Lectuter Notes of Andrew Ng](https://web.stanford.edu/class/cs294a/sparseAutoencoder.pdf)\n",
    "* Sebastian Raschka [post on PCA](http://nbviewer.jupyter.org/github/rasbt/pattern_classification/blob/master/dimensionality_reduction/projection/principal_component_analysis.ipynb)\n",
    "* My note on [foundation on backpropagation](https://dkolmas.github.io/blog/2017/11/09/Foundation-of-backpropagation) if you want to know how NN works"
   ]
  },
  {
   "cell_type": "code",
   "execution_count": 40,
   "metadata": {},
   "outputs": [],
   "source": [
    "import tensorflow as tf\n",
    "import matplotlib\n",
    "import matplotlib.pyplot as plt\n",
    "import numpy as np\n",
    "from sklearn import datasets\n",
    "%matplotlib inline"
   ]
  },
  {
   "cell_type": "code",
   "execution_count": 41,
   "metadata": {},
   "outputs": [
    {
     "name": "stdout",
     "output_type": "stream",
     "text": [
      "Tensorflow version:  1.8.0\n"
     ]
    }
   ],
   "source": [
    "print(\"Tensorflow version: \", tf.__version__)"
   ]
  },
  {
   "cell_type": "code",
   "execution_count": 42,
   "metadata": {},
   "outputs": [
    {
     "name": "stdout",
     "output_type": "stream",
     "text": [
      "iris dataset content:  ['data', 'target', 'target_names', 'DESCR', 'feature_names']\n",
      "A shape of data content of iris dataset: (150, 4)\n"
     ]
    }
   ],
   "source": [
    "iris = datasets.load_iris()\n",
    "print(\"iris dataset content: \",list(iris.keys()))\n",
    "print(\"A shape of data content of iris dataset:\", iris[\"data\"].shape)"
   ]
  },
  {
   "cell_type": "markdown",
   "metadata": {},
   "source": [
    "Highlights about dataset:\n",
    "* Total number of samples is 150\n",
    "* The iris data consiste of 4 inputs (features): Sepal Length, Sepal Width, Petal Length and Petal Width\n",
    "* More informatin of iris data set in [here](http://scikit-learn.org/stable/auto_examples/datasets/plot_iris_dataset.html)\n",
    "* For this Autoencoder all there features are considered\n",
    "* This simple Auteocnoder is supposed to deliver PCA\n",
    "* The outcome of Autoencoder can be checked against regular PCA of iris dataset presetned by Sebastian Raschka in his [notebook](http://nbviewer.jupyter.org/github/rasbt/pattern_classification/blob/master/dimensionality_reduction/projection/principal_component_analysis.ipynb)\n"
   ]
  },
  {
   "cell_type": "code",
   "execution_count": 43,
   "metadata": {},
   "outputs": [
    {
     "name": "stdout",
     "output_type": "stream",
     "text": [
      "Example of input sample:  [4.6 3.1 1.5 0.2]\n"
     ]
    }
   ],
   "source": [
    "print(\"Example of input sample: \",iris['data'][3,:])"
   ]
  },
  {
   "cell_type": "code",
   "execution_count": 44,
   "metadata": {},
   "outputs": [
    {
     "data": {
      "text/plain": [
       "numpy.ndarray"
      ]
     },
     "execution_count": 44,
     "metadata": {},
     "output_type": "execute_result"
    }
   ],
   "source": [
    "X_train = iris['data']\n",
    "y = iris['target']  # for visualization purpose only\n",
    "type(X_train)"
   ]
  },
  {
   "cell_type": "markdown",
   "metadata": {},
   "source": [
    "Now, let's build the tensorflow code for simple autoencoder. As a help you can refer to that figure which was taken from [CS294A Lectuter Notes of Andrew Ng](https://web.stanford.edu/class/cs294a/sparseAutoencoder.pdf)"
   ]
  },
  {
   "cell_type": "markdown",
   "metadata": {},
   "source": [
    "<img src=\"Autoencoder_basic_01.png\">"
   ]
  },
  {
   "cell_type": "markdown",
   "metadata": {},
   "source": [
    "To build the network of the architecture type shown above we can:\n",
    "* use separate weigths and biases definition as it is [here](https://www.tensorflow.org/versions/r1.0/get_started/mnist/mechanics) end perform operation like: W*X+b\n",
    "* use dense layer (fully connected layer) definition as it is [here](https://www.tensorflow.org/api_docs/python/tf/layers/dense)"
   ]
  },
  {
   "cell_type": "code",
   "execution_count": 45,
   "metadata": {},
   "outputs": [],
   "source": [
    "n_input = 4\n",
    "n_hidden = 2\n",
    "n_output = n_input"
   ]
  },
  {
   "cell_type": "code",
   "execution_count": 46,
   "metadata": {},
   "outputs": [],
   "source": [
    "tf.reset_default_graph()  # To avoid many duplicated nodes in the default grpah\n",
    "sess = tf.Session()       # The graph is created when new session starts"
   ]
  },
  {
   "cell_type": "markdown",
   "metadata": {},
   "source": [
    "NOTE\n",
    "\n",
    "In orderto performe PCA using Autoencoder it is necessary to desing your NN so that:\n",
    " * all activations functions are linear - in [tf.layer.dense](https://www.tensorflow.org/api_docs/python/tf/layers/dense) \"activation\" parameter is set to lienar activation function by default\n",
    " * "
   ]
  },
  {
   "cell_type": "code",
   "execution_count": 47,
   "metadata": {},
   "outputs": [],
   "source": [
    "X = tf.placeholder(tf.float32, shape=[None, n_input], name='Input')\n",
    "L_hidden = tf.layers.dense(X, n_hidden, name='LayerHidden')\n",
    "Output = tf.layers.dense(L_hidden, n_output, name='Output')"
   ]
  },
  {
   "cell_type": "markdown",
   "metadata": {},
   "source": [
    "Znajdz strone www na ktorej byla mowa o prostym aoutoencoderze, ktory morze pelnic role PCA\n",
    "\n",
    "Znlazełe. [Tutaj](https://github.com/ageron/handson-ml/blob/master/15_autoencoders.ipynb)"
   ]
  },
  {
   "cell_type": "code",
   "execution_count": 48,
   "metadata": {},
   "outputs": [],
   "source": [
    "learning_rate = 0.01\n",
    "tf.set_random_seed(100)\n",
    "\n",
    "AE_loss = tf.reduce_mean(tf.square(Output - X))\n",
    "optimizer = tf.train.AdamOptimizer(learning_rate)\n",
    "training_op = optimizer.minimize(AE_loss)\n",
    "\n",
    "init = tf.global_variables_initializer()"
   ]
  },
  {
   "cell_type": "code",
   "execution_count": 49,
   "metadata": {},
   "outputs": [],
   "source": [
    "n_iterations = 1000\n",
    "codings = L_hidden\n",
    "\n",
    "with tf.Session() as sess:\n",
    "    tf.set_random_seed(100)\n",
    "    init.run()\n",
    "    for iteration in range(n_iterations):\n",
    "        training_op.run(feed_dict={X: X_train})\n",
    "    codings_val = codings.eval(feed_dict={X: X_train})"
   ]
  },
  {
   "cell_type": "code",
   "execution_count": 51,
   "metadata": {},
   "outputs": [
    {
     "data": {
      "image/png": "[encoded data removed]",
      "text/plain": [
       "<matplotlib.figure.Figure at 0x7fc455542d30>"
      ]
     },
     "metadata": {},
     "output_type": "display_data"
    }
   ],
   "source": [
    "with plt.style.context('seaborn-whitegrid'):\n",
    "    fig = plt.figure(figsize=(6,4))\n",
    "    for lab, col in zip((0, 1, 2), ('blue', 'red', 'green')):\n",
    "\n",
    "        plt.scatter(codings_val[y==lab, 1],\n",
    "                    codings_val[y==lab, 0],\n",
    "                    label=lab,\n",
    "                    c=col)\n",
    "    plt.xlabel('Principal Component 1')\n",
    "    plt.ylabel('Principal Component 2')\n",
    "    plt.title(\"Principal Components via Linear Autoencoder\")\n",
    "    plt.legend(iris['target_names'])\n",
    "    plt.show()\n"
   ]
  },
  {
   "cell_type": "code",
   "execution_count": null,
   "metadata": {},
   "outputs": [],
   "source": []
  },
  {
   "cell_type": "code",
   "execution_count": null,
   "metadata": {},
   "outputs": [],
   "source": []
  }
 ],
 "metadata": {
  "kernelspec": {
   "display_name": "Python 3",
   "language": "python",
   "name": "python3"
  },
  "language_info": {
   "codemirror_mode": {
    "name": "ipython",
    "version": 3
   },
   "file_extension": ".py",
   "mimetype": "text/x-python",
   "name": "python",
   "nbconvert_exporter": "python",
   "pygments_lexer": "ipython3",
   "version": "3.6.2"
  }
 },
 "nbformat": 4,
 "nbformat_minor": 2
}
